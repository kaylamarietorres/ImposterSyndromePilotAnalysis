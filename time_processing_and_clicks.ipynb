{
  "cells": [
    {
      "cell_type": "code",
      "execution_count": null,
      "metadata": {
        "id": "U_BRMMj0ME6K"
      },
      "outputs": [],
      "source": [
        "import pandas as pd\n",
        "import io\n",
        "from google.colab import files"
      ]
    },
    {
      "cell_type": "code",
      "execution_count": null,
      "metadata": {
        "colab": {
          "base_uri": "https://localhost:8080/",
          "height": 73
        },
        "id": "VAZ-82awMMyD",
        "outputId": "ad320c93-e924-4b15-99cf-7b83d970df42"
      },
      "outputs": [
        {
          "output_type": "display_data",
          "data": {
            "text/plain": [
              "<IPython.core.display.HTML object>"
            ],
            "text/html": [
              "\n",
              "     <input type=\"file\" id=\"files-99a1287c-dec2-4e9b-8d8c-2214cfb91e3c\" name=\"files[]\" multiple disabled\n",
              "        style=\"border:none\" />\n",
              "     <output id=\"result-99a1287c-dec2-4e9b-8d8c-2214cfb91e3c\">\n",
              "      Upload widget is only available when the cell has been executed in the\n",
              "      current browser session. Please rerun this cell to enable.\n",
              "      </output>\n",
              "      <script>// Copyright 2017 Google LLC\n",
              "//\n",
              "// Licensed under the Apache License, Version 2.0 (the \"License\");\n",
              "// you may not use this file except in compliance with the License.\n",
              "// You may obtain a copy of the License at\n",
              "//\n",
              "//      http://www.apache.org/licenses/LICENSE-2.0\n",
              "//\n",
              "// Unless required by applicable law or agreed to in writing, software\n",
              "// distributed under the License is distributed on an \"AS IS\" BASIS,\n",
              "// WITHOUT WARRANTIES OR CONDITIONS OF ANY KIND, either express or implied.\n",
              "// See the License for the specific language governing permissions and\n",
              "// limitations under the License.\n",
              "\n",
              "/**\n",
              " * @fileoverview Helpers for google.colab Python module.\n",
              " */\n",
              "(function(scope) {\n",
              "function span(text, styleAttributes = {}) {\n",
              "  const element = document.createElement('span');\n",
              "  element.textContent = text;\n",
              "  for (const key of Object.keys(styleAttributes)) {\n",
              "    element.style[key] = styleAttributes[key];\n",
              "  }\n",
              "  return element;\n",
              "}\n",
              "\n",
              "// Max number of bytes which will be uploaded at a time.\n",
              "const MAX_PAYLOAD_SIZE = 100 * 1024;\n",
              "\n",
              "function _uploadFiles(inputId, outputId) {\n",
              "  const steps = uploadFilesStep(inputId, outputId);\n",
              "  const outputElement = document.getElementById(outputId);\n",
              "  // Cache steps on the outputElement to make it available for the next call\n",
              "  // to uploadFilesContinue from Python.\n",
              "  outputElement.steps = steps;\n",
              "\n",
              "  return _uploadFilesContinue(outputId);\n",
              "}\n",
              "\n",
              "// This is roughly an async generator (not supported in the browser yet),\n",
              "// where there are multiple asynchronous steps and the Python side is going\n",
              "// to poll for completion of each step.\n",
              "// This uses a Promise to block the python side on completion of each step,\n",
              "// then passes the result of the previous step as the input to the next step.\n",
              "function _uploadFilesContinue(outputId) {\n",
              "  const outputElement = document.getElementById(outputId);\n",
              "  const steps = outputElement.steps;\n",
              "\n",
              "  const next = steps.next(outputElement.lastPromiseValue);\n",
              "  return Promise.resolve(next.value.promise).then((value) => {\n",
              "    // Cache the last promise value to make it available to the next\n",
              "    // step of the generator.\n",
              "    outputElement.lastPromiseValue = value;\n",
              "    return next.value.response;\n",
              "  });\n",
              "}\n",
              "\n",
              "/**\n",
              " * Generator function which is called between each async step of the upload\n",
              " * process.\n",
              " * @param {string} inputId Element ID of the input file picker element.\n",
              " * @param {string} outputId Element ID of the output display.\n",
              " * @return {!Iterable<!Object>} Iterable of next steps.\n",
              " */\n",
              "function* uploadFilesStep(inputId, outputId) {\n",
              "  const inputElement = document.getElementById(inputId);\n",
              "  inputElement.disabled = false;\n",
              "\n",
              "  const outputElement = document.getElementById(outputId);\n",
              "  outputElement.innerHTML = '';\n",
              "\n",
              "  const pickedPromise = new Promise((resolve) => {\n",
              "    inputElement.addEventListener('change', (e) => {\n",
              "      resolve(e.target.files);\n",
              "    });\n",
              "  });\n",
              "\n",
              "  const cancel = document.createElement('button');\n",
              "  inputElement.parentElement.appendChild(cancel);\n",
              "  cancel.textContent = 'Cancel upload';\n",
              "  const cancelPromise = new Promise((resolve) => {\n",
              "    cancel.onclick = () => {\n",
              "      resolve(null);\n",
              "    };\n",
              "  });\n",
              "\n",
              "  // Wait for the user to pick the files.\n",
              "  const files = yield {\n",
              "    promise: Promise.race([pickedPromise, cancelPromise]),\n",
              "    response: {\n",
              "      action: 'starting',\n",
              "    }\n",
              "  };\n",
              "\n",
              "  cancel.remove();\n",
              "\n",
              "  // Disable the input element since further picks are not allowed.\n",
              "  inputElement.disabled = true;\n",
              "\n",
              "  if (!files) {\n",
              "    return {\n",
              "      response: {\n",
              "        action: 'complete',\n",
              "      }\n",
              "    };\n",
              "  }\n",
              "\n",
              "  for (const file of files) {\n",
              "    const li = document.createElement('li');\n",
              "    li.append(span(file.name, {fontWeight: 'bold'}));\n",
              "    li.append(span(\n",
              "        `(${file.type || 'n/a'}) - ${file.size} bytes, ` +\n",
              "        `last modified: ${\n",
              "            file.lastModifiedDate ? file.lastModifiedDate.toLocaleDateString() :\n",
              "                                    'n/a'} - `));\n",
              "    const percent = span('0% done');\n",
              "    li.appendChild(percent);\n",
              "\n",
              "    outputElement.appendChild(li);\n",
              "\n",
              "    const fileDataPromise = new Promise((resolve) => {\n",
              "      const reader = new FileReader();\n",
              "      reader.onload = (e) => {\n",
              "        resolve(e.target.result);\n",
              "      };\n",
              "      reader.readAsArrayBuffer(file);\n",
              "    });\n",
              "    // Wait for the data to be ready.\n",
              "    let fileData = yield {\n",
              "      promise: fileDataPromise,\n",
              "      response: {\n",
              "        action: 'continue',\n",
              "      }\n",
              "    };\n",
              "\n",
              "    // Use a chunked sending to avoid message size limits. See b/62115660.\n",
              "    let position = 0;\n",
              "    do {\n",
              "      const length = Math.min(fileData.byteLength - position, MAX_PAYLOAD_SIZE);\n",
              "      const chunk = new Uint8Array(fileData, position, length);\n",
              "      position += length;\n",
              "\n",
              "      const base64 = btoa(String.fromCharCode.apply(null, chunk));\n",
              "      yield {\n",
              "        response: {\n",
              "          action: 'append',\n",
              "          file: file.name,\n",
              "          data: base64,\n",
              "        },\n",
              "      };\n",
              "\n",
              "      let percentDone = fileData.byteLength === 0 ?\n",
              "          100 :\n",
              "          Math.round((position / fileData.byteLength) * 100);\n",
              "      percent.textContent = `${percentDone}% done`;\n",
              "\n",
              "    } while (position < fileData.byteLength);\n",
              "  }\n",
              "\n",
              "  // All done.\n",
              "  yield {\n",
              "    response: {\n",
              "      action: 'complete',\n",
              "    }\n",
              "  };\n",
              "}\n",
              "\n",
              "scope.google = scope.google || {};\n",
              "scope.google.colab = scope.google.colab || {};\n",
              "scope.google.colab._files = {\n",
              "  _uploadFiles,\n",
              "  _uploadFilesContinue,\n",
              "};\n",
              "})(self);\n",
              "</script> "
            ]
          },
          "metadata": {}
        },
        {
          "output_type": "stream",
          "name": "stdout",
          "text": [
            "Saving User 28_all_gaze.csv to User 28_all_gaze.csv\n"
          ]
        }
      ],
      "source": [
        "uploaded = files.upload()"
      ]
    },
    {
      "cell_type": "markdown",
      "source": [
        "# read data set into data frame"
      ],
      "metadata": {
        "id": "K25gdTRa9Ijc"
      }
    },
    {
      "cell_type": "code",
      "execution_count": null,
      "metadata": {
        "colab": {
          "base_uri": "https://localhost:8080/"
        },
        "id": "xRsE9dycNApT",
        "outputId": "9fa85f1f-7bc8-41dc-b35a-17fb4d4adc84"
      },
      "outputs": [
        {
          "output_type": "stream",
          "name": "stdout",
          "text": [
            "   MEDIA_ID       MEDIA_NAME  CNT  TIME(2024/01/19 11:03:28.507)  \\\n",
            "0        10  trial snippet 1    0                        0.00000   \n",
            "1        10  trial snippet 1    1                        0.00641   \n",
            "2        10  trial snippet 1    2                        0.01294   \n",
            "3        10  trial snippet 1    3                        0.02020   \n",
            "4        10  trial snippet 1    4                        0.02667   \n",
            "\n",
            "   TIMETICK(f=10000000)    FPOGX    FPOGY  FPOGS    FPOGD  FPOGID  ...  TTL5  \\\n",
            "0           36651522358  0.30231 -0.00274    0.0  0.00000       1  ...         \n",
            "1           36651586285  0.30260 -0.00045    0.0  0.00641       1  ...         \n",
            "2           36651651487  0.30300  0.00194    0.0  0.01294       1  ...         \n",
            "3           36651724380  0.30331  0.00409    0.0  0.02020       1  ...         \n",
            "4           36651788883  0.30359  0.00610    0.0  0.02667       1  ...         \n",
            "\n",
            "   TTL6  TTLV  PIXS  PIXV  AOI  SACCADE_MAG SACCADE_DIR  VID_FRAME  \\\n",
            "0           0   0.0     0  NaN          0.0         0.0          0   \n",
            "1           0   0.0     0  NaN          0.0         0.0          0   \n",
            "2           0   0.0     0  NaN          0.0         0.0          0   \n",
            "3           0   0.0     0  NaN          0.0         0.0          0   \n",
            "4           0   0.0     0  NaN          0.0         0.0          0   \n",
            "\n",
            "   Unnamed: 59  \n",
            "0          NaN  \n",
            "1          NaN  \n",
            "2          NaN  \n",
            "3          NaN  \n",
            "4          NaN  \n",
            "\n",
            "[5 rows x 60 columns]\n"
          ]
        }
      ],
      "source": [
        "\n",
        "df = pd.read_csv(io.BytesIO(uploaded['User 28_all_gaze.csv']))\n",
        "print(df.head())\n"
      ]
    },
    {
      "cell_type": "markdown",
      "source": [
        "# count number of clicks for each code snippet"
      ],
      "metadata": {
        "id": "hU8T3qVc9OIA"
      }
    },
    {
      "cell_type": "code",
      "execution_count": null,
      "metadata": {
        "colab": {
          "base_uri": "https://localhost:8080/"
        },
        "id": "PrSMQkdsNTfh",
        "outputId": "9a49016a-7eea-482c-b0fb-e1ded9115b6b"
      },
      "outputs": [
        {
          "output_type": "stream",
          "name": "stdout",
          "text": [
            "snippet 1: 3\n",
            "snippet 2: 4\n",
            "snippet 3: 5\n",
            "snippet 4: 3\n",
            "snippet 5: 5\n"
          ]
        }
      ],
      "source": [
        "# List of trial snippets\n",
        "snippets = ['snippet 1', 'snippet 2', 'snippet 3', 'snippet 4', 'snippet 5']\n",
        "\n",
        "# Dictionary to store the counts\n",
        "counts = {}\n",
        "\n",
        "# Convert 'CS' column to string type to ensure consistency\n",
        "df['CS'] = df['CS'].astype(str)\n",
        "\n",
        "# Loop through each trial snippet\n",
        "for snippet in snippets:\n",
        "    # Count the number of times '3' appears in 'CS' column for each trial snippet\n",
        "    count = df[(df['MEDIA_NAME'] == snippet) & (df['CS'] == '3')].shape[0]\n",
        "    counts[snippet] = count\n",
        "\n",
        "# Print the results\n",
        "for snippet, count in counts.items():\n",
        "    print(f\"{snippet}: {count}\")\n",
        "\n",
        "\n",
        "\n",
        "# List to store the counts\n",
        "counts_array = []\n",
        "\n",
        "for snippet in snippets:\n",
        "    # Count the number of times '3' appears in 'CS' column for each trial snippet\n",
        "    count = df[(df['MEDIA_NAME'] == snippet) & (df['CS'] == '3')].shape[0]\n",
        "    counts_array.append(count)\n",
        "\n"
      ]
    },
    {
      "cell_type": "code",
      "execution_count": null,
      "metadata": {
        "colab": {
          "base_uri": "https://localhost:8080/"
        },
        "id": "EobqWUEs1Qs2",
        "outputId": "1b705b92-74b8-4221-ca2f-6ec82873d080"
      },
      "outputs": [
        {
          "name": "stdout",
          "output_type": "stream",
          "text": [
            "['trial snippet 1' 'trial question 1' 'trial snippet 2' 'trial question 2'\n",
            " 'snippet 1' 'question 1' 'snippet 2' 'question 2' 'snippet 3'\n",
            " 'question 3' 'snippet 4' 'question 4' 'snippet 5' 'question 5']\n",
            "[3 0 1]\n"
          ]
        }
      ],
      "source": [
        "print(df['MEDIA_NAME'].unique())\n",
        "print(df['CS'].unique())"
      ]
    },
    {
      "cell_type": "code",
      "execution_count": null,
      "metadata": {
        "colab": {
          "base_uri": "https://localhost:8080/"
        },
        "id": "TaORVU-W2UMr",
        "outputId": "2de6277c-370d-4496-ebf9-59e0edf16718"
      },
      "outputs": [
        {
          "name": "stdout",
          "output_type": "stream",
          "text": [
            "[6, 4, 5, 4, 7]\n"
          ]
        }
      ],
      "source": [
        "print(counts_array)"
      ]
    }
  ],
  "metadata": {
    "colab": {
      "provenance": []
    },
    "kernelspec": {
      "display_name": "Python 3",
      "name": "python3"
    },
    "language_info": {
      "name": "python"
    }
  },
  "nbformat": 4,
  "nbformat_minor": 0
}